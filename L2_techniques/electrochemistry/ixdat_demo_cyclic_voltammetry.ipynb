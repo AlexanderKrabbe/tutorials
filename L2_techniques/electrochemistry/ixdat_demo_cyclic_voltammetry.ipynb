{
 "cells": [
  {
   "cell_type": "markdown",
   "metadata": {},
   "source": [
    "Tutorial: Comparing cycles of a cyclic voltammogram\n",
    "====================================\n",
    "\n",
    "*Internet connection required*: This tutorial reads data from a github repository [here](https://github.com/ixdat/tutorials/tree/43e85d07254e67e950f9c7081ffe1fa7f053cc08/L3_data_structure/exports).\n",
    "\n",
    "Here we will show how to use `ixdat` and python to analyze two cases where the difference in integrated current between two cycles in cyclic voltammatry is needed. \n",
    "\n",
    "Using the CO stripping example, we will show three ways of visualizing the stripping experiment and determining the surface area of a platinum electrode. Each gives the amount of charge associated with oxidation of adsorbed CO, and thus an estimate of the electrochemical surface area of the electrode. From most generalized to most automated, they are:\n",
    "\n",
    "- Finding the right timespans, getting the data as numpy vectors with `grab()`, and integrating with `trapz()`\n",
    "- Selecting the data with `CyclicVoltammagram` indexing and `select_sweep()`, and integrating with `integrate()`\n",
    "- Using `subtract()` to get a `CyclicVoltammagramDiff` object that does the analysis.\n",
    "\n",
    "Then, you will, on your own, choose whichever method you like to calculate the amount of charge associated with the reduction of an oxide layer, which gives an estimate of the thickness of the oxide layer."
   ]
  },
  {
   "cell_type": "markdown",
   "metadata": {},
   "source": [
    "Setup\n",
    "--------\n",
    "We'll use `numpy` and `pathlib.Path` as well as `ixdat`'s `CyclicVoltammogram` measurement type.\n",
    "You can always read your data with the basic Measruement class, using `from ixdat import Measurement` and `Measurement.read(...)` object. Ixdat will then determine the best specific class to use. However, if you know exactly which class you want (here `CyclicVoltammogram`), you can use the `read` method of that class."
   ]
  },
  {
   "cell_type": "code",
   "execution_count": null,
   "metadata": {},
   "outputs": [],
   "source": [
    "import numpy as np\n",
    "from pathlib import Path\n",
    "\n",
    "from ixdat.techniques import CyclicVoltammogram "
   ]
  },
  {
   "cell_type": "markdown",
   "metadata": {},
   "source": [
    "Loading raw data\n",
    "----------------------"
   ]
  },
  {
   "cell_type": "markdown",
   "metadata": {},
   "source": [
    "Using ixdat's `Measurement.read()` method reads a file from your hard drive to make a `Measurement` object. `read_url()` does the same thing, but from a url. When the origin of the file can't be inferred from the extension (e.g., many softwares can make \".csv\" files), you should specify the \"reader\" to tell ixdat how to parse the file. Here, the file is something that was exported from ixdat itself, so the reader is \"ixdat\"."
   ]
  },
  {
   "cell_type": "code",
   "execution_count": null,
   "metadata": {},
   "outputs": [],
   "source": [
    "if True:  # Set this to False for offline work (requires you have downloaded the data file.)\n",
    "    co_strip = CyclicVoltammogram.read_url(\n",
    "        \"https://raw.githubusercontent.com/ixdat/tutorials/43e85d07254e67e950f9c7081ffe1fa7f053cc08/L3_data_structure/exports/co_strip.csv\",\n",
    "        reader=\"ixdat\"\n",
    "    )\n",
    "else:\n",
    "    co_strip = CyclicVoltammogram.read(\n",
    "        \"./data/co_strip.csv\",\n",
    "        reader=\"ixdat\"\n",
    "    )"
   ]
  },
  {
   "cell_type": "markdown",
   "metadata": {},
   "source": [
    "(Don't worry about the line skipping above, that is because the file was exported with an earlier version of ixdat.)\n",
    "\n",
    "It's always an option to directly plot anything you read into ixdat. For a `CyclicVoltammogram` object, the default plotting method is current (\"J\") vs potential (\"V\"):"
   ]
  },
  {
   "cell_type": "code",
   "execution_count": null,
   "metadata": {},
   "outputs": [],
   "source": [
    "co_strip.plot()"
   ]
  },
  {
   "cell_type": "markdown",
   "metadata": {},
   "source": [
    "Selecting and calibrating\n",
    "----------------------------------"
   ]
  },
  {
   "cell_type": "markdown",
   "metadata": {},
   "source": [
    "`ixdat` supports several types of simple data treating (calibrating, filtering, and background subtraction). `ECMeasurement`s and derived classes like `CyclicVoltammogram` support reference electrode calibration (give `RE_vs_RHE` in \\[V\\]) current normalization (give `A_el` in \\[cm^2\\]), ohmic drop correction (give `R_Ohm` in \\[Ohm\\]). Note that the potential was already calibrated, so we don't calibrate it again here."
   ]
  },
  {
   "cell_type": "code",
   "execution_count": null,
   "metadata": {},
   "outputs": [],
   "source": [
    "co_strip.calibrate(\n",
    "    A_el=0.196, \n",
    "    R_Ohm=100\n",
    ")\n",
    "help(co_strip.calibrate)"
   ]
  },
  {
   "cell_type": "markdown",
   "metadata": {},
   "source": [
    "Numpy arrays are available with the `grab` method of any ixdat `Measurement`. This method returns two arrays - a time vector and a vector for the value you ask for.\n",
    "\n",
    "For an `ECMeasurement`, you can always grab `potential` and `current`. These will be the most up-to-date (calibrated) values avialable."
   ]
  },
  {
   "cell_type": "code",
   "execution_count": null,
   "metadata": {},
   "outputs": [],
   "source": [
    "co_strip.grab(\"potential\")   # Returns the time in [s] and the the ohmic-drop corrected potential vs RHE in [V]"
   ]
  },
  {
   "cell_type": "markdown",
   "metadata": {},
   "source": [
    "The `plot_measurement` method always plots data (in this case potential and current) vs time.\n",
    "Note that it also plots the calibrated versions (ohmic drop corrected potential and normalized current):"
   ]
  },
  {
   "cell_type": "code",
   "execution_count": null,
   "metadata": {},
   "outputs": [],
   "source": [
    "co_strip.plot_measurement()\n",
    "co_strip.plot()"
   ]
  },
  {
   "cell_type": "markdown",
   "metadata": {},
   "source": [
    "Method 1: `grab()` and `np.trapz`\n",
    "-----------------------------------------"
   ]
  },
  {
   "cell_type": "markdown",
   "metadata": {},
   "source": [
    "Using `grab` gives you access to all of the power of `numpy` arrays. In the cells below, we use numpy functions to calculate the CO stripping charge.\n",
    "Grab can select a subset of the data using a `tspan` argument. Plotting methods also can take a `tspan` argument.\n",
    "\n",
    "So, first, we approximate the time intervals of both the stripping cycle and the base cycle:"
   ]
  },
  {
   "cell_type": "code",
   "execution_count": null,
   "metadata": {},
   "outputs": [],
   "source": [
    "co_strip.plot_measurement(tspan=[180, 220])\n",
    "co_strip.plot_measurement(tspan=[300, 340])"
   ]
  },
  {
   "cell_type": "markdown",
   "metadata": {},
   "source": [
    "And then, we grab the numpy arrays:"
   ]
  },
  {
   "cell_type": "code",
   "execution_count": null,
   "metadata": {},
   "outputs": [],
   "source": [
    "tspan_strip = [195, 215]\n",
    "t_strip, I_strip = co_strip.grab(\"raw_current\", tspan=tspan_strip)\n",
    "\n",
    "\n",
    "tspan_base = [310, 330]\n",
    "t_base, I_base = co_strip.grab(\"raw_current\", tspan=tspan_base)"
   ]
  },
  {
   "cell_type": "markdown",
   "metadata": {},
   "source": [
    "Printing some things to sanity check what we got:"
   ]
  },
  {
   "cell_type": "code",
   "execution_count": null,
   "metadata": {},
   "outputs": [],
   "source": [
    "print(\"got these vectors for the strip:\")\n",
    "print(f\"t/[s] = {t_strip} \\nand \\nI/[mA] = {I_strip}\")\n",
    "print()\n",
    "print(f\"they have these shapes: {t_strip.shape} and {I_strip.shape}\")\n",
    "print()\n",
    "print(f\"And for the base, the vectors have shapes: {t_base.shape} and {I_base.shape}\")"
   ]
  },
  {
   "cell_type": "markdown",
   "metadata": {},
   "source": [
    "**Checking what we've got**\n",
    "\n",
    "Here, we manually plot the selected current vs time for the first cycle:"
   ]
  },
  {
   "cell_type": "code",
   "execution_count": null,
   "metadata": {},
   "outputs": [],
   "source": [
    "from matplotlib import pyplot as plt\n",
    "\n",
    "fig, ax1 = plt.subplots()\n",
    "ax1.plot(t_strip, I_strip)\n",
    "ax1.set_xlabel(\"time / [s]\")\n",
    "ax1.set_ylabel(\"current / [mA]\")\n",
    "ax1.set_title(\"stripping current\")"
   ]
  },
  {
   "cell_type": "markdown",
   "metadata": {},
   "source": [
    "Here, we manually plot the selected current vs time for the two cycles. Notice that of course, there is some time between them (the time corresponding to one CV cycle)"
   ]
  },
  {
   "cell_type": "code",
   "execution_count": null,
   "metadata": {},
   "outputs": [],
   "source": [
    "fig, ax2 = plt.subplots()\n",
    "ax2.plot(t_base, I_base, label=\"base\")\n",
    "ax2.plot(t_strip, I_strip, label=\"strip\")\n",
    "ax2.legend()\n",
    "ax2.set_xlabel(\"time / [s]\")\n",
    "ax2.set_ylabel(\"current / [mA]\")\n",
    "ax2.set_title(\"strip and base current vs time\")"
   ]
  },
  {
   "cell_type": "markdown",
   "metadata": {},
   "source": [
    "We can use the corresponding potential to line them up on a plot. \n",
    "To get the potential corresponding to the current that we already selected, we use the method `grab_for_t`. This is when you already have the time vector and just want the values."
   ]
  },
  {
   "cell_type": "code",
   "execution_count": null,
   "metadata": {},
   "outputs": [],
   "source": [
    "v_strip = co_strip.grab_for_t(\"potential\", t_strip)\n",
    "v_base = co_strip.grab_for_t(\"potential\", t_base)\n",
    "\n",
    "fig, ax = plt.subplots()\n",
    "ax.plot(v_base, I_base, color=\"k\", label=\"base\")\n",
    "ax.plot(v_strip, I_strip, color=\"g\", label=\"strip\")\n",
    "ax.legend()\n",
    "ax.set_xlabel(\"potential / [V]\")\n",
    "ax.set_ylabel(\"current / [mA]\")"
   ]
  },
  {
   "cell_type": "markdown",
   "metadata": {},
   "source": [
    "It's not exactly aligned, so we can adjust the timespan a bit"
   ]
  },
  {
   "cell_type": "code",
   "execution_count": null,
   "metadata": {},
   "outputs": [],
   "source": [
    "tspan_base = [311.5, 331.5]\n",
    "t_base, I_base = co_strip.grab(\"raw_current\", tspan=tspan_base)\n",
    "v_base = co_strip.grab_for_t(\"potential\", t_base)\n",
    "\n",
    "\n",
    "fig, ax = plt.subplots()\n",
    "ax.plot(v_base, I_base, color=\"k\", label=\"base\")\n",
    "ax.plot(v_strip, I_strip, color=\"g\", label=\"strip\")\n",
    "ax.legend()\n",
    "ax.set_xlabel(co_strip.U_name)\n",
    "ax.set_ylabel(\"current / [mA]\")"
   ]
  },
  {
   "cell_type": "markdown",
   "metadata": {},
   "source": [
    "**And do the integration!**"
   ]
  },
  {
   "cell_type": "code",
   "execution_count": null,
   "metadata": {},
   "outputs": [],
   "source": [
    "Q_strip = np.trapz(I_strip, t_strip) * 1e-3  # converts mC --> C\n",
    "\n",
    "Q_base = np.trapz(I_base, t_base) * 1e-3\n",
    "\n",
    "Q_CO_ox = Q_strip - Q_base\n",
    "\n",
    "from ixdat.constants import FARADAY_CONSTANT\n",
    "\n",
    "\n",
    "#  CO + H2O --> CO2  + 2(H+ + e-)\n",
    "n_CO_ox = Q_CO_ox / (FARADAY_CONSTANT * 2)\n",
    "\n",
    "print(f\"charge passed = {Q_CO_ox*1e6} uC, corresponding to {n_CO_ox*1e9} nmol of CO oxidized\")\n"
   ]
  },
  {
   "cell_type": "markdown",
   "metadata": {},
   "source": [
    "Method 2: Sweep selection and `integrate()`\n",
    "----------------------------------------------------------"
   ]
  },
  {
   "cell_type": "code",
   "execution_count": null,
   "metadata": {},
   "outputs": [],
   "source": [
    "co_strip.plot_measurement(\n",
    "    J_name=\"cycle\"\n",
    ")"
   ]
  },
  {
   "cell_type": "code",
   "execution_count": null,
   "metadata": {},
   "outputs": [],
   "source": [
    "co_strip.redefine_cycle(start_potential=0.3, redox=False)\n",
    "co_strip.plot_measurement(J_name=\"cycle\")"
   ]
  },
  {
   "cell_type": "code",
   "execution_count": null,
   "metadata": {},
   "outputs": [],
   "source": [
    "co_strip[1].plot()"
   ]
  },
  {
   "cell_type": "markdown",
   "metadata": {},
   "source": [
    "The code below selects two cycles from the CO stripping experiment. \n",
    "\n",
    "The code in the next bloc calculates the amount of CO according to:\n",
    "\n",
    "$n_{CO} = \\frac{1}{2 \\mathcal{F}} \\int_{0.6 V_{RHE}}^{1.0 V_{RHE}} ( I_{strip} - I_{base} ) \\mathrm{d}t $"
   ]
  },
  {
   "cell_type": "code",
   "execution_count": null,
   "metadata": {},
   "outputs": [],
   "source": [
    "stripping_cycle = co_strip[1]\n",
    "base_cycle = co_strip[2]\n",
    "\n",
    "ax = stripping_cycle.plot(color=\"green\", label=\"strip\")\n",
    "base_cycle.plot(ax=ax, color=\"black\", label=\"base\")\n",
    "\n",
    "ax.legend()\n",
    "\n",
    "ax.get_figure().tight_layout()\n",
    "\n",
    "ax.get_figure().savefig(\"02_two_cycles.png\")"
   ]
  },
  {
   "cell_type": "code",
   "execution_count": null,
   "metadata": {},
   "outputs": [],
   "source": [
    "vspan = [0.6, 1.0]\n",
    "\n",
    "stripping_sweep = stripping_cycle.select_sweep(vspan=vspan)\n",
    "base_sweep = base_cycle.select_sweep(vspan=vspan)\n",
    "\n",
    "stripping_sweep  # to show what you get from this"
   ]
  },
  {
   "cell_type": "code",
   "execution_count": null,
   "metadata": {},
   "outputs": [],
   "source": [
    "ax = stripping_sweep.plot(color=\"g\")\n",
    "base_sweep.plot(color=\"k\", ax=ax)"
   ]
  },
  {
   "cell_type": "code",
   "execution_count": null,
   "metadata": {},
   "outputs": [],
   "source": [
    "Q_strip = stripping_sweep.integrate(\"raw_current\", ax=\"new\") * 1e-3\n",
    "Q_base = base_sweep.integrate(\"raw_current\", ax=\"new\") * 1e-3\n",
    "\n",
    "Q_CO_ox = Q_strip - Q_base\n",
    "n_CO_ox = Q_CO_ox / (FARADAY_CONSTANT * 2)\n",
    "\n",
    "print(f\"charge passed = {Q_CO_ox*1e6} uC, corresponding to {n_CO_ox*1e9} nmol of CO oxidized\")"
   ]
  },
  {
   "cell_type": "markdown",
   "metadata": {},
   "source": [
    "Method 3: `CyclicVoltammagramDiff`\n",
    "------------------------------------------------"
   ]
  },
  {
   "cell_type": "code",
   "execution_count": null,
   "metadata": {},
   "outputs": [],
   "source": [
    "stripping_cycle = co_strip[1]\n",
    "base_cycle = co_strip[2]\n",
    "\n",
    "ax = stripping_cycle.plot(color=\"g\")\n",
    "base_cycle.plot(ax=ax, color=\"k\")"
   ]
  },
  {
   "cell_type": "code",
   "execution_count": null,
   "metadata": {},
   "outputs": [],
   "source": [
    "cv_diff = stripping_cycle.diff_with(base_cycle)\n",
    "\n",
    "cv_diff.plot()"
   ]
  },
  {
   "cell_type": "code",
   "execution_count": null,
   "metadata": {},
   "outputs": [],
   "source": [
    "cv_diff.plot_diff()"
   ]
  },
  {
   "cell_type": "code",
   "execution_count": null,
   "metadata": {},
   "outputs": [],
   "source": [
    "cv_diff.plot_measurement()"
   ]
  },
  {
   "cell_type": "code",
   "execution_count": null,
   "metadata": {},
   "outputs": [],
   "source": [
    "Q_CO_ox = cv_diff.integrate(\"raw_current\", vspan=[0.6, 1.0]) * 1e-3  # 1e-3 converts mC --> C\n",
    "n_CO_ox = Q_CO_ox / (FARADAY_CONSTANT * 2)\n",
    "\n",
    "print(f\"charge passed = {Q_CO_ox*1e6} uC, corresponding to {n_CO_ox*1e9} nmol of CO oxidized\")"
   ]
  },
  {
   "cell_type": "markdown",
   "metadata": {},
   "source": [
    "Your turn!\n",
    "========"
   ]
  },
  {
   "cell_type": "code",
   "execution_count": null,
   "metadata": {},
   "outputs": [],
   "source": [
    "# oxide_reduction = CyclicVoltammagram.read(data_directory / \"oxide_reduction.csv\", reader=\"ixdat\")\n",
    "if True:  # Set this to False for offline work (requires you have downloaded the data file.)\n",
    "    oxide_reduction = CyclicVoltammogram.read_url(\n",
    "        \"https://raw.githubusercontent.com/ixdat/tutorials/43e85d07254e67e950f9c7081ffe1fa7f053cc08/L3_data_structure/exports/oxide_reduction.csv\",\n",
    "        reader=\"ixdat\"\n",
    "    )\n",
    "else:\n",
    "    oxide_reduction = CyclicVoltammogram.read(\n",
    "        \"./data/oxide_reduction.csv\", reader=\"ixdat\"\n",
    "    )\n",
    "    \n",
    "oxide_reduction.calibrate(A_el=0.196, R_Ohm=100)\n",
    "\n",
    "oxide_reduction.tstamp += oxide_reduction.t[0]\n",
    "oxide_reduction.plot_measurement()\n",
    "oxide_reduction.plot(tspan=[300, 800])"
   ]
  }
 ],
 "metadata": {
  "kernelspec": {
   "display_name": "Python 3 (ipykernel)",
   "language": "python",
   "name": "python3"
  },
  "language_info": {
   "codemirror_mode": {
    "name": "ipython",
    "version": 3
   },
   "file_extension": ".py",
   "mimetype": "text/x-python",
   "name": "python",
   "nbconvert_exporter": "python",
   "pygments_lexer": "ipython3",
   "version": "3.11.5"
  }
 },
 "nbformat": 4,
 "nbformat_minor": 4
}
