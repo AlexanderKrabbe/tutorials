{
 "cells": [
  {
   "cell_type": "markdown",
   "id": "ab21b693",
   "metadata": {},
   "source": [
    "Setup\n",
    "=====\n",
    "\n",
    "Make sure you have ixdat installed.\n",
    "This tutorial requires ixdat version 0.2.3 or higher.\n",
    "ixdat 0.2.3 is available as a pre-release using:\n",
    "\n",
    "  `pip install ixdat==0.2.3.dev1`\n",
    "\n",
    "To make sure that we've installed ixdat correctly, we import it in this first line.\n",
    "Ixdat is nice and tells us where it is being imported from.\n",
    "\n",
    "Jupyter Notebooks are nice for tutorials, because you can combine text and code and easily run one cell at a time.\n",
    "However, there are many ways to run python scripts. Two that I particular like are the IDE's (integrated development environments) called *spyder* and *PyCharm*. Spyder comes with *Anaconda*. PyCharm is not, but is also available for free installation. Both of those IDE's can give you interractive plot windows which are nice for zooming. I use spyder for simple plotting and analysis scripts and pycharm if I'm developing something (like working on ixdat or a project repository).\n",
    "\n",
    "For .py versions of these demonstrations, see here: https://github.com/ixdat/tutorials/tree/main/demos/22E06_ICL"
   ]
  },
  {
   "cell_type": "code",
   "execution_count": null,
   "id": "8ac72bf3",
   "metadata": {},
   "outputs": [],
   "source": [
    "import ixdat  \n",
    "# should print \"importing ixdat v0.2.3dev1 from ...\\Anaconda3\\lib\\site-packages\\ixdat\\__init__.py"
   ]
  },
  {
   "cell_type": "markdown",
   "id": "79173cfa",
   "metadata": {},
   "source": [
    "This next block of code is just defining the folder where your data is. \n",
    "We'll use the `pathlib` module of the `Path` package. This is a nice way to keep track of locations on your computer in python. It enables you for example, to use the `/` character to mean \"in a folder\"."
   ]
  },
  {
   "cell_type": "code",
   "execution_count": null,
   "id": "c3925438",
   "metadata": {},
   "outputs": [],
   "source": [
    "from pathlib import Path\n",
    "\n",
    "# data_dir = Path(\"./data\")  # this is where the data is. In this case in the \"data\" subfolder in the folder with this script\n",
    "data_dir = Path(r\"C:\\Users\\scott\\Dropbox\\ixdat_resources\\tutorials_data\\22E17_DTU_demo\\data\") # for use while developing\n",
    "\n",
    "# To make sure that we have the right folder, we can print its contents:\n",
    "for p in data_dir.iterdir():\n",
    "    print(p)\n",
    "\n",
    "# it should print the names of the folders \"01\", \"02\", \"03\", and \"04\""
   ]
  },
  {
   "cell_type": "markdown",
   "id": "45c6c4fd",
   "metadata": {},
   "source": [
    "Demo 1: Plotting EC cycles\n",
    "======================\n",
    "\n",
    "This example shows how to read in and plot EC data.\n",
    "The data is from an iridium oxide electrode which was cycled from the hydrogen region to the oxygen region over night, making a big feature associated (probably) with getting protons in and out of a hydrated layer."
   ]
  },
  {
   "cell_type": "code",
   "execution_count": null,
   "id": "4b8c9fec",
   "metadata": {},
   "outputs": [],
   "source": [
    "# In ixdat, you can do most things by starting with the \"Measurement\" class. Import it like this:\n",
    "from ixdat import Measurement \n",
    "\n",
    "# This loads the EC data:\n",
    "ec = Measurement.read(\n",
    "    data_dir / \"01/iridium_butterfly_short_CVA.mpt\", reader=\"biologic\"\n",
    ") \n",
    "# We can see what it is like this:\n",
    "print(ec)"
   ]
  },
  {
   "cell_type": "markdown",
   "id": "c4492b65",
   "metadata": {},
   "source": [
    "ECMeasurement\n",
    "----------------\n",
    "\n",
    "Every measurement in ixdat has a standard \"plotter\", and a standard \"plot\" function.\n",
    "For an `ECMeasurement`, the standard plot function plots current and potential on left and right y-axes, respectively, against time on the x-axes."
   ]
  },
  {
   "cell_type": "code",
   "execution_count": null,
   "id": "72a0de5c",
   "metadata": {},
   "outputs": [],
   "source": [
    "ec.plot() "
   ]
  },
  {
   "cell_type": "markdown",
   "id": "a79a9530",
   "metadata": {},
   "source": [
    "So, it's a really long measurement and you can't quite resolve it on this scale. So we should zoom in.\n",
    "\n",
    "There are a lot of ways to customize the plots output by ixdat. You can check which ones are available for your plotter by using python's help function (this prints the docstring):"
   ]
  },
  {
   "cell_type": "code",
   "execution_count": null,
   "id": "b7b505ed",
   "metadata": {},
   "outputs": [],
   "source": [
    "help(ec.plot)"
   ]
  },
  {
   "cell_type": "markdown",
   "id": "0a3c0151",
   "metadata": {},
   "source": [
    "This reveals that one way to zoom in is to use the `tspan` argument.\n",
    "Here, we'll zoom in, and, for fun, change the color of the current:"
   ]
  },
  {
   "cell_type": "code",
   "execution_count": null,
   "id": "6d12b25a",
   "metadata": {},
   "outputs": [],
   "source": [
    "ec.plot(tspan=[1000, 1100], J_color=\"green\")"
   ]
  },
  {
   "cell_type": "markdown",
   "id": "fb1965f0",
   "metadata": {},
   "source": [
    "It'd be nice if it gave the potential vs RHE and the calibrated current.\n",
    "We can do so using the `calibrate` function:"
   ]
  },
  {
   "cell_type": "code",
   "execution_count": null,
   "id": "de87edc0",
   "metadata": {},
   "outputs": [],
   "source": [
    "ec.calibrate(RE_vs_RHE=0.715, A_el=0.196)\n",
    "ec.plot(tspan=[1000, 1100])"
   ]
  },
  {
   "cell_type": "markdown",
   "id": "e3564002",
   "metadata": {},
   "source": [
    "If we want data *out* of a `Measurement`, we can use its `grab` function, which returns two vectors - one time and one the selected value. Grabbing also gives you an opportunity to specify a `tspan`.\n",
    "\n",
    "To get a list of what things can be \"grabbed\", you can look two places: `series_names` and `aliases`:"
   ]
  },
  {
   "cell_type": "code",
   "execution_count": null,
   "id": "67182277",
   "metadata": {},
   "outputs": [],
   "source": [
    "print(ec.series_names)\n",
    "print(ec.aliases)\n",
    "\n",
    "# for example, to grab the raw potential (which is an alias for `Ewe/V`):\n",
    "t, v = ec.grab(\"raw_potential\", tspan=[2000, 2005])\n",
    "print(\"This is the time vector:\")\n",
    "print(t) \n",
    "print(\"This is the raw potential vector:\")\n",
    "print(v) "
   ]
  },
  {
   "cell_type": "markdown",
   "id": "5086e567",
   "metadata": {},
   "source": [
    "Unfortunately, these lists are not complete, because they don't include *calibrated* series. In this case, because we have calibrated potential and normalized current, you can also grab `\"potential\"` and `\"current\"` to get the calibrated values. We are working on a way to make this clear and transparent for users.\n",
    "\n",
    "For more details on how to get data out of an `ECMeasurement`, see the tutorial here:\n",
    "https://github.com/ixdat/tutorials/blob/main/electrochemistry/01_reading_and_using_data.ipynb\n",
    "\n",
    "\n",
    "CyclciVoltammogram\n",
    "-------------------\n",
    "\n",
    "Now, if we want to plot it as a cyclic voltammogram, i.e. potential against current, we can use the `plot_vs_potential` function. But it's nicer to convert it to a `CyclicVoltammogram` object as follows."
   ]
  },
  {
   "cell_type": "code",
   "execution_count": null,
   "id": "a9544b62",
   "metadata": {},
   "outputs": [],
   "source": [
    "cv = ec.as_cv()\n",
    "print(cv)"
   ]
  },
  {
   "cell_type": "markdown",
   "id": "158bbdf7",
   "metadata": {},
   "source": [
    "Then the *default* plotting method becomes plotting vs potential:"
   ]
  },
  {
   "cell_type": "code",
   "execution_count": null,
   "id": "6f3fb9b0",
   "metadata": {},
   "outputs": [],
   "source": [
    "cv.plot()"
   ]
  },
  {
   "cell_type": "markdown",
   "id": "5bc4c606",
   "metadata": {},
   "source": [
    "Because there are so many cycles in this case, it's hard to see what is going on.\n",
    "This can be improved by adding color to the cycles, with the plot_cycles function. Notice the color bar."
   ]
  },
  {
   "cell_type": "code",
   "execution_count": null,
   "id": "b2d80be0",
   "metadata": {},
   "outputs": [],
   "source": [
    "cv.plot_cycles()"
   ]
  },
  {
   "cell_type": "markdown",
   "id": "dfbc16fa",
   "metadata": {},
   "source": [
    "We can also select one cycle at a time by indexing. To compare cycles 1 and 200, for example:"
   ]
  },
  {
   "cell_type": "code",
   "execution_count": null,
   "id": "c3137c56",
   "metadata": {},
   "outputs": [],
   "source": [
    "ax = cv[1].plot(color=\"k\", label=\"early\")\n",
    "cv[200].plot(color=\"b\", ax=ax, label=\"late\")\n",
    "ax.legend()"
   ]
  },
  {
   "cell_type": "markdown",
   "id": "c5b817b6",
   "metadata": {},
   "source": [
    "Notice the way the `Axis` object returned by the first plot function is *reused* for the second plot function.\n",
    "\n",
    "A super handy method that comes with ixdat `CyclicVoltammogram` is `redefine_cycle`, which gives you control over where in the CV the cycle number increments.\n",
    "\n",
    "For example, to get the cycle to increment at 0.5 V vs RHE in the anodic direction, do this:"
   ]
  },
  {
   "cell_type": "code",
   "execution_count": null,
   "id": "0f5fc201",
   "metadata": {},
   "outputs": [],
   "source": [
    "cv.redefine_cycle(start_potential=0.5, redox=True)"
   ]
  },
  {
   "cell_type": "markdown",
   "id": "cf0403a6",
   "metadata": {},
   "source": [
    "You can spot the difference by plotting the cycles again:"
   ]
  },
  {
   "cell_type": "code",
   "execution_count": null,
   "id": "0bbcdf9c",
   "metadata": {},
   "outputs": [],
   "source": [
    "ax = cv[1].plot(color=\"k\", label=\"early\")\n",
    "cv[200].plot(color=\"b\", ax=ax, label=\"late\")\n",
    "ax.legend()"
   ]
  },
  {
   "cell_type": "markdown",
   "id": "9bf7a7ce",
   "metadata": {},
   "source": [
    "For more handy stuff on cyclic voltammogram manipulation and analysis, see here: \n",
    "https://github.com/ixdat/tutorials/blob/main/electrochemistry/02_comparing_cycles.ipynb\n",
    "\n",
    "A final word on this demo is that, because of the way that ixdat uses inheritance for one class to build on another, all of the stuff demonstrated here also works for EC-MS data s. That is to say, you can convert an `ECMSMeasurement` to an `ECMSCyclicVoltammogram` using the `as_cv` method and then select cycles by indexing exactly like here."
   ]
  },
  {
   "cell_type": "markdown",
   "id": "e75651fc",
   "metadata": {},
   "source": [
    "Demo 2: Two-dimensional data sets\n",
    "================================"
   ]
  },
  {
   "cell_type": "code",
   "execution_count": null,
   "id": "e58415b7",
   "metadata": {},
   "outputs": [],
   "source": [
    "from ixdat import Measurement\n",
    "\n",
    "sec_meas = Measurement.read(\n",
    "    data_dir / \"02/test-7SEC.csv\",\n",
    "    path_to_ref_spec_file=data_dir / \"02/WL.csv\",\n",
    "    path_to_U_J_file=data_dir / \"02/test-7_JV.csv\",\n",
    "    scan_rate=1,\n",
    "    tstamp=1,\n",
    "    reader=\"msrh_sec\",\n",
    ")\n",
    "\n",
    "sec_meas.plot(cmap_name=\"jet\")"
   ]
  },
  {
   "cell_type": "code",
   "execution_count": null,
   "id": "ed732638",
   "metadata": {},
   "outputs": [],
   "source": [
    "sec_meas.calibrate_RE(RE_vs_RHE=0.2)\n",
    "sec_meas.set_reference_spectrum(V_ref=0.6)\n",
    "\n",
    "axes = sec_meas.plot_vs_potential(cmap_name=\"jet\")\n",
    "axes[1].set_yscale(\"log\")"
   ]
  },
  {
   "cell_type": "code",
   "execution_count": null,
   "id": "1cbfb2f6",
   "metadata": {},
   "outputs": [],
   "source": [
    "spectrum_1 = sec_meas.get_dOD_spectrum(V=1.3, V_ref=0.6)\n",
    "spectrum_2 = sec_meas.get_dOD_spectrum(V=1.5, V_ref=1.3)\n",
    "\n",
    "ax = spectrum_1.plot(color=\"k\", label=\"before onset\")\n",
    "spectrum_2.plot(color=\"r\", label=\"change around onset\", ax=ax)\n",
    "ax.set_ylim(bottom=0)"
   ]
  },
  {
   "cell_type": "code",
   "execution_count": null,
   "id": "ea377cf8",
   "metadata": {},
   "outputs": [],
   "source": [
    "sec_meas.plot_waterfall()"
   ]
  },
  {
   "cell_type": "markdown",
   "id": "f598e855",
   "metadata": {},
   "source": [
    "For more detailed tools on Spectroelectrochemistry, see:\n",
    "https://github.com/ixdat/tutorials/blob/main/spectroelectrochemistry/spectroelectrochemistry_demo.ipynb"
   ]
  },
  {
   "cell_type": "markdown",
   "id": "0aa473d6",
   "metadata": {},
   "source": [
    "Demo 3: Calibrating EC-MS data\n",
    "========================="
   ]
  },
  {
   "cell_type": "code",
   "execution_count": null,
   "id": "1bd116e6",
   "metadata": {},
   "outputs": [],
   "source": [
    "ms_1 = Measurement.read(\n",
    "    data_dir / \"03/2022-04-28 19_18_01 Ruti.tsv\",\n",
    "    reader=\"zilien\",\n",
    "    technique=\"MS\"\n",
    ")\n",
    "ms_1.plot()\n",
    "\n",
    "ms_2 = Measurement.read(\n",
    "    data_dir / \"03/2022-04-28 23_25_58 Ruti.tsv\",\n",
    "    reader=\"zilien\",\n",
    "    technique=\"MS\"\n",
    ")\n",
    "ms_2.plot()"
   ]
  },
  {
   "cell_type": "code",
   "execution_count": null,
   "id": "8c9b58b2",
   "metadata": {},
   "outputs": [],
   "source": [
    "ms = ms_1 + ms_2\n",
    "ms.plot()"
   ]
  },
  {
   "cell_type": "code",
   "execution_count": null,
   "id": "dcfbde85",
   "metadata": {},
   "outputs": [],
   "source": [
    "ec_1 = Measurement.read_set(data_dir / \"03/01\",  reader=\"biologic\", suffix=\".mpt\")\n",
    "ec_1.plot()\n",
    "\n",
    "ecms_1 = ec_1 + ms\n",
    "ecms_1.plot()"
   ]
  },
  {
   "cell_type": "code",
   "execution_count": null,
   "id": "dccc0ab9",
   "metadata": {},
   "outputs": [],
   "source": [
    "ec_2 = Measurement.read_set(data_dir / \"03/06\",  reader=\"biologic\", suffix=\".mpt\")\n",
    "ecms_2 = ec_2 + ms\n",
    "ecms_2.plot()"
   ]
  },
  {
   "cell_type": "code",
   "execution_count": null,
   "id": "08f14cd0",
   "metadata": {},
   "outputs": [],
   "source": [
    "O2_M32 = ecms_1.ecms_calibration_curve(\n",
    "    mol=\"O2\",\n",
    "    mass=\"M32\",\n",
    "    n_el=4,\n",
    "    tspan_list=[(1300, 1350), (1900, 1950), (2500, 2550)],\n",
    "    tspan_bg=(950, 1000)\n",
    ")"
   ]
  },
  {
   "cell_type": "code",
   "execution_count": null,
   "id": "24e8ff5c",
   "metadata": {},
   "outputs": [],
   "source": [
    "ecms_2.calibrate(ms_cal_results=[O2_M32], RE_vs_RHE=0, A_el=0.196)\n",
    "ecms_2.plot(mol_list=[\"O2\"], tspan=[0, 300], logplot=False, unit=\"nmol/s\")"
   ]
  },
  {
   "cell_type": "markdown",
   "id": "8c4ab5d7",
   "metadata": {},
   "source": [
    "Demo 4: Normalizing Spectra\n",
    "=======================\n",
    "\n",
    "In this tutorial, unlike the last three which started with the `Measurement` class, we will start with the `Specturm` class to read the data."
   ]
  },
  {
   "cell_type": "code",
   "execution_count": null,
   "id": "c22090e9",
   "metadata": {},
   "outputs": [],
   "source": [
    "import numpy as np\n",
    "from matplotlib import pyplot as plt\n",
    "from ixdat import Spectrum\n",
    "\n",
    "\n",
    "# This is a dictionary which, for each sample name, has a formula, a file name, and a color:\n",
    "to_plot = {\n",
    "    \"Ru\": (\"RuO$_2$\", \"Rude4_omega0p5.xrdml\", \"black\"),\n",
    "    \"RuTi_1\": (\"Ru$_{0.9}$Ti$_{0.1}$O$_2$\", \"RutiZelensky_omega0p5.xrdml\", \"blue\"),\n",
    "    \"RuTi_2\": (\"Ru$_{0.75}$Ti$_{0.25}$O$_2$\", \"RutiMacron_omega0p5.xrdml\", \"green\"),\n",
    "    \"Ti\": (\"TiO$_2$\", \"Poseidon_omega0p5.xrdml\", \"red\")\n",
    "}\n",
    "\n",
    "# We'll import the four spectra one at a time, plot them, and put them in here for later use:\n",
    "spectra = {}\n",
    "\n",
    "for name, (formula, file_name, color) in to_plot.items():\n",
    "    xrd = Spectrum.read(data_dir / \"04\" / file_name, reader=\"xrdml\")\n",
    "    ax = xrd.plot(color=color)\n",
    "    ax.set_title(formula)\n",
    "    spectra[name] = xrd"
   ]
  },
  {
   "cell_type": "code",
   "execution_count": null,
   "id": "092d5adf",
   "metadata": {},
   "outputs": [],
   "source": [
    "# Now we'll plot them again, but on one axis and normalize to the substrate peak\n",
    "\n",
    "fig, ax = plt.subplots()\n",
    "for name, (formula, file_name, color) in to_plot.items():\n",
    "    xrd = spectra[name]\n",
    "    x, y = xrd.x, xrd.y\n",
    "    y_fto_peak = max(y[np.logical_and(37 < x, x < 38.5)])\n",
    "    ax.plot(x, y / y_fto_peak, label=formula, color=color)\n",
    "\n",
    "ax.set_xlabel(\"two theta / [deg]\")\n",
    "ax.set_ylabel(\"norm. intensity\")\n",
    "ax.legend()"
   ]
  }
 ],
 "metadata": {
  "kernelspec": {
   "display_name": "Python 3",
   "language": "python",
   "name": "python3"
  },
  "language_info": {
   "codemirror_mode": {
    "name": "ipython",
    "version": 3
   },
   "file_extension": ".py",
   "mimetype": "text/x-python",
   "name": "python",
   "nbconvert_exporter": "python",
   "pygments_lexer": "ipython3",
   "version": "3.7.4"
  }
 },
 "nbformat": 4,
 "nbformat_minor": 5
}
