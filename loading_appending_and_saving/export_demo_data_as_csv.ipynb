{
 "cells": [
  {
   "cell_type": "markdown",
   "metadata": {},
   "source": [
    "Loading, selecting, calibrating, and exporting data\n",
    "====================================\n"
   ]
  },
  {
   "cell_type": "markdown",
   "metadata": {},
   "source": [
    "Setup\n",
    "--------\n",
    "When you've installed ixdat using `pip install ixdat` in your terminal or Anaconda prompt, no additional setup is needed!"
   ]
  },
  {
   "cell_type": "markdown",
   "metadata": {},
   "source": [
    "Loading raw data\n",
    "----------------------\n",
    "This first block defines where the data is and tells us the contents of the folder."
   ]
  },
  {
   "cell_type": "code",
   "execution_count": null,
   "metadata": {},
   "outputs": [],
   "source": [
    "from pathlib import Path\n",
    "data_directory = Path.home() / \"Dropbox/ixdat_resources/tutorials_data/extended_platinum_ec\"\n",
    "[f.name for f in data_directory.iterdir()]"
   ]
  },
  {
   "cell_type": "markdown",
   "metadata": {},
   "source": [
    "And now we're ready to read it with ixdat!"
   ]
  },
  {
   "cell_type": "code",
   "execution_count": null,
   "metadata": {},
   "outputs": [],
   "source": [
    "from ixdat import Measurement\n",
    "\n",
    "cv_meas = Measurement.read(\n",
    "    data_directory / \"01_demo_03_CVA_C01.mpt\", reader=\"biologic\"\n",
    ")\n",
    "\n",
    "cv_meas"
   ]
  },
  {
   "cell_type": "markdown",
   "metadata": {},
   "source": [
    "These are the available readers (the list will be expanded!):"
   ]
  },
  {
   "cell_type": "code",
   "execution_count": null,
   "metadata": {},
   "outputs": [],
   "source": [
    "from ixdat.readers import READER_CLASSES\n",
    "\n",
    "READER_CLASSES"
   ]
  },
  {
   "cell_type": "markdown",
   "metadata": {},
   "source": [
    "First, the actual data. The best way to get the numerical data (numpy arrays) is using `grab()`."
   ]
  },
  {
   "cell_type": "code",
   "execution_count": null,
   "metadata": {},
   "outputs": [],
   "source": [
    "cv_meas.grab(\"Ewe/V\")  # \"Ewe/V\" is what Biologic calls working electrode potential in its files."
   ]
  },
  {
   "cell_type": "markdown",
   "metadata": {},
   "source": [
    "Grab gives two vectors. The first is time, the second is the variable.\n",
    "You can plot them like this:\n",
    "    "
   ]
  },
  {
   "cell_type": "code",
   "execution_count": null,
   "metadata": {},
   "outputs": [],
   "source": [
    "from matplotlib import pyplot as plt  # the standard plotting library\n",
    "\n",
    "t, v = cv_meas.grab(\"Ewe/V\")\n",
    "plt.plot(t, v)\n",
    "\n",
    "plt.gca().set_xlim([13000, 15000])  # you can zoom in using an xaxis limit"
   ]
  },
  {
   "cell_type": "markdown",
   "metadata": {},
   "source": [
    "Rather than using matplotlib to zoom in, we can also use ixdat to select the data."
   ]
  },
  {
   "cell_type": "code",
   "execution_count": null,
   "metadata": {},
   "outputs": [],
   "source": [
    "t, v = cv_meas.grab(\"Ewe/V\", tspan=[13000, 15000])\n",
    "plt.plot(t, v)"
   ]
  },
  {
   "cell_type": "markdown",
   "metadata": {},
   "source": [
    "Beter yet, we can use ixdat to plot it for us."
   ]
  },
  {
   "cell_type": "code",
   "execution_count": null,
   "metadata": {},
   "outputs": [],
   "source": [
    "cv_meas.plot_measurement()\n",
    "cv_meas.calibrate_RE(RE_vs_RHE=0.715)  # this calibrates the reference electrode potential!\n",
    "cv_meas.plot_measurement(tspan=[13000, 14000])\n",
    "cv_meas.plot_measurement(tspan=[16000, 17000])"
   ]
  },
  {
   "cell_type": "markdown",
   "metadata": {},
   "source": [
    "**The other parts of the measurement**\n",
    "-------------------------------------------------"
   ]
  },
  {
   "cell_type": "code",
   "execution_count": null,
   "metadata": {},
   "outputs": [],
   "source": [
    "ocp_meas = Measurement.read(\n",
    "    data_directory / \"01_demo_02_OCV_C01.mpt\", reader=\"biologic\"\n",
    ")\n",
    "ocp_meas.plot_measurement()\n",
    "\n",
    "cp_meas = Measurement.read(\n",
    "    data_directory / \"01_demo_04_CP_C01.mpt\", reader=\"biologic\"\n",
    ")\n",
    "cp_meas.plot_measurement()"
   ]
  },
  {
   "cell_type": "markdown",
   "metadata": {},
   "source": [
    "Combining the measurements\n",
    "-----------------------------------------"
   ]
  },
  {
   "cell_type": "code",
   "execution_count": null,
   "metadata": {},
   "outputs": [],
   "source": [
    "combined_meas = cv_meas + ocp_meas + cp_meas\n",
    "combined_meas.plot_measurement()"
   ]
  },
  {
   "cell_type": "code",
   "execution_count": null,
   "metadata": {},
   "outputs": [],
   "source": [
    "combined_meas.plot(tspan=[16000, 17000])"
   ]
  },
  {
   "cell_type": "markdown",
   "metadata": {},
   "source": [
    "If you need to separate them again\n",
    "--------------------------------"
   ]
  },
  {
   "cell_type": "code",
   "execution_count": null,
   "metadata": {},
   "outputs": [],
   "source": [
    "combined_meas.component_measurements"
   ]
  },
  {
   "cell_type": "code",
   "execution_count": null,
   "metadata": {},
   "outputs": [],
   "source": [
    "part = combined_meas.component_measurements[2]\n",
    "part"
   ]
  },
  {
   "cell_type": "code",
   "execution_count": null,
   "metadata": {},
   "outputs": [],
   "source": [
    "part.plot_measurement(tspan=[14400, 17000])"
   ]
  },
  {
   "cell_type": "markdown",
   "metadata": {},
   "source": [
    "Saving to ixdat\n",
    "---------------------"
   ]
  },
  {
   "cell_type": "code",
   "execution_count": null,
   "metadata": {},
   "outputs": [],
   "source": [
    "from ixdat.db import change_database\n",
    "\n",
    "change_database(\"directory\", project_name=\"21B19_demo\")"
   ]
  },
  {
   "cell_type": "code",
   "execution_count": null,
   "metadata": {},
   "outputs": [],
   "source": [
    "print(f\"About to save {combined_meas}\")\n",
    "combined_meas.name = \"extended_platinum_ec\"\n",
    "\n",
    "m_id = combined_meas.save()\n",
    "\n",
    "print(f\"saved to measurements table with id={m_id})\")\n",
    "print(f\"... {combined_meas}, that is.\")"
   ]
  },
  {
   "cell_type": "code",
   "execution_count": null,
   "metadata": {},
   "outputs": [],
   "source": [
    "del(combined_meas)\n",
    "\n",
    "loaded_meas = Measurement.get(m_id)"
   ]
  },
  {
   "cell_type": "code",
   "execution_count": null,
   "metadata": {},
   "outputs": [],
   "source": [
    "loaded_meas.plot_measurement(tspan=[16000, 17000])"
   ]
  },
  {
   "cell_type": "markdown",
   "metadata": {},
   "source": [
    "Selecting data and adjusting the starting time\n",
    "-------------------------------------------------------------"
   ]
  },
  {
   "cell_type": "code",
   "execution_count": null,
   "metadata": {},
   "outputs": [],
   "source": [
    "co_strip = loaded_meas.cut(tspan=[13300, 13800])\n",
    "\n",
    "co_strip.plot_measurement()"
   ]
  },
  {
   "cell_type": "code",
   "execution_count": null,
   "metadata": {},
   "outputs": [],
   "source": [
    "t_0 = co_strip.t[0]\n",
    "print(f\"the time starts at t={t_0}, which is annoying\")"
   ]
  },
  {
   "cell_type": "code",
   "execution_count": null,
   "metadata": {},
   "outputs": [],
   "source": [
    "co_strip.tstamp += 13300\n",
    "t_0 = co_strip.t[0]\n",
    "print(f\"and now it starts at t={t_0}, which is nice!\")"
   ]
  },
  {
   "cell_type": "code",
   "execution_count": null,
   "metadata": {},
   "outputs": [],
   "source": [
    "from matplotlib import pyplot as plt\n",
    "\n",
    "fig, [ax1, ax2] = plt.subplots(1, 2)\n",
    "fig.set_figwidth(fig.get_figheight()*2.5)\n",
    "\n",
    "co_strip.plot_measurement(\n",
    "    axes=[ax2, ax2.twinx()], V_color=\"b\", J_color=\"g\"\n",
    ")\n",
    "\n",
    "co_strip.plot_vs_potential(ax=ax1)"
   ]
  },
  {
   "cell_type": "code",
   "execution_count": null,
   "metadata": {},
   "outputs": [],
   "source": [
    "oxide_reduction = loaded_meas.cut(\n",
    "    tspan=[16000, 17000], t_zero=\"start\"\n",
    ")\n",
    "\n",
    "oxide_reduction.plot_measurement()"
   ]
  },
  {
   "cell_type": "markdown",
   "metadata": {},
   "source": [
    "Exporting\n",
    "-------------"
   ]
  },
  {
   "cell_type": "code",
   "execution_count": null,
   "metadata": {},
   "outputs": [],
   "source": [
    "co_strip.export(\"./co_strip.csv\")"
   ]
  },
  {
   "cell_type": "code",
   "execution_count": null,
   "metadata": {},
   "outputs": [],
   "source": [
    "oxide_reduction.export(\"./oxide_reduction.csv\")"
   ]
  },
  {
   "cell_type": "code",
   "execution_count": null,
   "metadata": {},
   "outputs": [],
   "source": [
    "loaded_from_export = Measurement.read(\"./co_strip.csv\", reader=\"ixdat\")"
   ]
  },
  {
   "cell_type": "code",
   "execution_count": null,
   "metadata": {},
   "outputs": [],
   "source": [
    "loaded_from_export.plot()"
   ]
  },
  {
   "cell_type": "code",
   "execution_count": null,
   "metadata": {},
   "outputs": [],
   "source": []
  }
 ],
 "metadata": {
  "kernelspec": {
   "display_name": "Python 3",
   "language": "python",
   "name": "python3"
  },
  "language_info": {
   "codemirror_mode": {
    "name": "ipython",
    "version": 3
   },
   "file_extension": ".py",
   "mimetype": "text/x-python",
   "name": "python",
   "nbconvert_exporter": "python",
   "pygments_lexer": "ipython3",
   "version": "3.8.5"
  }
 },
 "nbformat": 4,
 "nbformat_minor": 4
}
