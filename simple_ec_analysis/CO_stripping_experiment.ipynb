{
 "cells": [
  {
   "cell_type": "markdown",
   "metadata": {},
   "source": [
    "Setup\n",
    "-----\n",
    "First, to get started, let's import ixdat. For now that means downloading it from github at\n",
    "- Temporary: https://github.com/ixdat/ixdat/tree/user_ready\n",
    "- Normal: https://github.com/ixdat/ixdat/\n",
    "\n",
    "and telling python where to look for it (its source folder): "
   ]
  },
  {
   "cell_type": "code",
   "execution_count": null,
   "metadata": {},
   "outputs": [],
   "source": [
    "from pathlib import Path\n",
    "import sys\n",
    "\n",
    "ixdat_source_path = Path.home() / \"git/ixdat/src\"\n",
    "sys.path.append(str(ixdat_source_path))\n",
    "\n",
    "import ixdat"
   ]
  },
  {
   "cell_type": "markdown",
   "metadata": {},
   "source": [
    "Electrochemical CO stripping experiment\n",
    "----------------------------------------------------------\n",
    "Now we will jump straight into it and analyze a CO stripping experiment"
   ]
  },
  {
   "cell_type": "code",
   "execution_count": null,
   "metadata": {},
   "outputs": [],
   "source": [
    "url_to_file = \"https://raw.githubusercontent.com/ixdat/ixdat/master/test_data/biologic_mpt_and_zilien_tsv/2020-07-29%2010_30_39%20Pt_poly_cv_01_02_CVA_C01.mpt\"\n",
    "from ixdat import Measurement\n",
    "\n",
    "ec_data = Measurement.read_url(url_to_file, reader=\"biologic\")\n",
    "ec_data"
   ]
  },
  {
   "cell_type": "code",
   "execution_count": null,
   "metadata": {},
   "outputs": [],
   "source": [
    "ec_data.plot_measurement()"
   ]
  },
  {
   "cell_type": "code",
   "execution_count": null,
   "metadata": {},
   "outputs": [],
   "source": []
  }
 ],
 "metadata": {
  "kernelspec": {
   "display_name": "Python 3",
   "language": "python",
   "name": "python3"
  },
  "language_info": {
   "codemirror_mode": {
    "name": "ipython",
    "version": 3
   },
   "file_extension": ".py",
   "mimetype": "text/x-python",
   "name": "python",
   "nbconvert_exporter": "python",
   "pygments_lexer": "ipython3",
   "version": "3.8.5"
  }
 },
 "nbformat": 4,
 "nbformat_minor": 4
}
