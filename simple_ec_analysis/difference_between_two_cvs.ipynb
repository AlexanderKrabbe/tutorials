{
 "cells": [
  {
   "cell_type": "code",
   "execution_count": null,
   "metadata": {},
   "outputs": [],
   "source": [
    "import numpy as np\n",
    "\n",
    "from pathlib import Path\n",
    "import sys\n",
    "\n",
    "ixdat_source_path = Path.home() / \"git/ixdat/src\"\n",
    "sys.path.append(str(ixdat_source_path))\n",
    "\n",
    "import ixdat"
   ]
  },
  {
   "cell_type": "code",
   "execution_count": null,
   "metadata": {},
   "outputs": [],
   "source": [
    "data_directory = Path.home() / \"Dropbox/ixdat_resources/jupyter_notebooks/21A29_ixdat_demo/demo_data\"\n",
    "[f.name for f in data_directory.iterdir()]"
   ]
  },
  {
   "cell_type": "code",
   "execution_count": null,
   "metadata": {},
   "outputs": [],
   "source": [
    "from ixdat.techniques import CyclicVoltammagram\n",
    "\n",
    "cv_meas = CyclicVoltammagram.read(\n",
    "    data_directory / \"01_demo_03_CVA_C01.mpt\", reader=\"biologic\"  # technique as option kwarg.\n",
    ")   # if it's a TechniqueMeasureemtn instead of Measurement, it should return obj of TechniqueMeasurement.\n",
    "\n",
    "cv_meas"
   ]
  },
  {
   "cell_type": "code",
   "execution_count": null,
   "metadata": {},
   "outputs": [],
   "source": [
    "cv_meas.plot_measurement(tspan=[13000, 14000])"
   ]
  },
  {
   "cell_type": "code",
   "execution_count": null,
   "metadata": {},
   "outputs": [],
   "source": [
    "co_strip = cv_meas.cut(tspan=[13300, 13900])\n",
    "co_strip.tstamp += co_strip.t[0]"
   ]
  },
  {
   "cell_type": "code",
   "execution_count": null,
   "metadata": {},
   "outputs": [],
   "source": [
    "co_strip.calibrate(A_el=0.196, RE_vs_RHE=0.715)\n",
    "co_strip.plot_measurement()"
   ]
  },
  {
   "cell_type": "code",
   "execution_count": null,
   "metadata": {},
   "outputs": [],
   "source": [
    "co_strip.redefine_cycle(start_potential=0.35, redox=False)\n",
    "ax = co_strip[1].plot(color=\"r\")\n",
    "co_strip[2].plot(color=\"k\", ax=ax)"
   ]
  },
  {
   "cell_type": "code",
   "execution_count": null,
   "metadata": {},
   "outputs": [],
   "source": [
    "stripping = co_strip[1].select_sweep(vspan=[0.6, 1.0])\n",
    "base = co_strip[2].select_sweep(vspan=[0.6, 1.0])\n",
    "ax = stripping.plot(color=\"r\")\n",
    "base.plot(color=\"k\", ax=ax)"
   ]
  },
  {
   "cell_type": "code",
   "execution_count": null,
   "metadata": {},
   "outputs": [],
   "source": [
    "t_strip, I_strip = stripping.grab(\"raw_current\")\n",
    "t_base, I_base = base.grab(\"raw_current\")\n",
    "\n",
    "dQ = np.trapz(I_strip, t_strip) - np.trapz(I_base, t_base)\n",
    "\n",
    "from ixdat.constants import Faraday\n",
    "\n",
    "dn = dQ / (Faraday * 2)\n",
    "\n",
    "print(f\"charge passed = {dQ*1e3} mC, corresponding to {dn*1e9} nmol of CO oxidized\")"
   ]
  }
 ],
 "metadata": {
  "kernelspec": {
   "display_name": "Python 3",
   "language": "python",
   "name": "python3"
  },
  "language_info": {
   "codemirror_mode": {
    "name": "ipython",
    "version": 3
   },
   "file_extension": ".py",
   "mimetype": "text/x-python",
   "name": "python",
   "nbconvert_exporter": "python",
   "pygments_lexer": "ipython3",
   "version": "3.8.5"
  }
 },
 "nbformat": 4,
 "nbformat_minor": 4
}
