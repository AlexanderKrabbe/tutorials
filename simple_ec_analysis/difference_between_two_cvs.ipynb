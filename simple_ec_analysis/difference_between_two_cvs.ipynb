{
 "cells": [
  {
   "cell_type": "markdown",
   "metadata": {},
   "source": [
    "Comparing cycles of a cyclic voltammagram\n",
    "====================================\n",
    "\n",
    "Here we will show how to use `ixdat` and python to analyze a CO stripping experiment, and then the reduction of an oxide. Using the CO stripping example, we will show three ways of visualizing the stripping experiment and determining the surface area of a platinum electrode. \n",
    "\n",
    "From most generalized to most automated, they are:\n",
    "\n",
    "- Finding the right timespans, getting the data as numpy vectors with `grab()`, and integrating with `trapz()`\n",
    "- Selecting the data with `CyclicVoltammagram` indexing and `select_sweep()`, and integrating with `integrate()`\n",
    "- Using `subtract()` to get a `CyclicVoltammagramDiff` object that does the analysis.\n"
   ]
  },
  {
   "cell_type": "markdown",
   "metadata": {},
   "source": [
    "Setup\n",
    "--------\n",
    "This is only necessary during development"
   ]
  },
  {
   "cell_type": "code",
   "execution_count": null,
   "metadata": {},
   "outputs": [],
   "source": [
    "import numpy as np\n",
    "\n",
    "from pathlib import Path\n",
    "import sys\n",
    "\n",
    "ixdat_source_path = Path.home() / \"git/ixdat/src\"\n",
    "sys.path.append(str(ixdat_source_path))\n",
    "\n",
    "import ixdat"
   ]
  },
  {
   "cell_type": "code",
   "execution_count": null,
   "metadata": {},
   "outputs": [],
   "source": [
    "data_directory = Path.home() / \"Dropbox/ixdat_resources/jupyter_notebooks/21A29_ixdat_demo/demo_data\"\n",
    "[f.name for f in data_directory.iterdir()]"
   ]
  },
  {
   "cell_type": "code",
   "execution_count": null,
   "metadata": {},
   "outputs": [],
   "source": [
    "from ixdat.techniques import CyclicVoltammagram\n",
    "\n",
    "cv_meas = CyclicVoltammagram.read(\n",
    "    data_directory / \"01_demo_03_CVA_C01.mpt\", reader=\"biologic\"\n",
    ")\n",
    "\n",
    "cv_meas"
   ]
  },
  {
   "cell_type": "code",
   "execution_count": null,
   "metadata": {},
   "outputs": [],
   "source": [
    "cv_meas.plot_measurement(tspan=[13000, 14000])\n",
    "\n",
    "co_strip = cv_meas.cut(tspan=[13300, 13900])\n",
    "co_strip.tstamp += co_strip.t[0]\n",
    "\n",
    "co_strip.calibrate(A_el=0.196, RE_vs_RHE=0.715)\n",
    "co_strip.plot_measurement()"
   ]
  },
  {
   "cell_type": "code",
   "execution_count": null,
   "metadata": {},
   "outputs": [],
   "source": [
    "co_strip.redefine_cycle(start_potential=0.35, redox=False)\n",
    "ax = co_strip[1].plot(color=\"r\")\n",
    "co_strip[2].plot(color=\"k\", ax=ax)"
   ]
  },
  {
   "cell_type": "code",
   "execution_count": null,
   "metadata": {},
   "outputs": [],
   "source": [
    "stripping = co_strip[1].select_sweep(vspan=[0.6, 1.0])\n",
    "base = co_strip[2].select_sweep(vspan=[0.6, 1.0])\n",
    "ax = stripping.plot(color=\"r\")\n",
    "base.plot(color=\"k\", ax=ax)"
   ]
  },
  {
   "cell_type": "code",
   "execution_count": null,
   "metadata": {},
   "outputs": [],
   "source": [
    "t_strip, I_strip = stripping.grab(\"raw_current\")\n",
    "t_base, I_base = base.grab(\"raw_current\")\n",
    "\n",
    "dQ = np.trapz(I_strip, t_strip) - np.trapz(I_base, t_base)\n",
    "\n",
    "from ixdat.constants import Faraday\n",
    "\n",
    "dn = dQ / (Faraday * 2)\n",
    "\n",
    "print(f\"charge passed = {dQ*1e3} mC, corresponding to {dn*1e9} nmol of CO oxidized\")"
   ]
  },
  {
   "cell_type": "code",
   "execution_count": null,
   "metadata": {},
   "outputs": [],
   "source": []
  }
 ],
 "metadata": {
  "kernelspec": {
   "display_name": "Python 3",
   "language": "python",
   "name": "python3"
  },
  "language_info": {
   "codemirror_mode": {
    "name": "ipython",
    "version": 3
   },
   "file_extension": ".py",
   "mimetype": "text/x-python",
   "name": "python",
   "nbconvert_exporter": "python",
   "pygments_lexer": "ipython3",
   "version": "3.8.5"
  }
 },
 "nbformat": 4,
 "nbformat_minor": 4
}
