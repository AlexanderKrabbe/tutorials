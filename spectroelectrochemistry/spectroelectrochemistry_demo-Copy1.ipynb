{
 "cells": [
  {
   "cell_type": "markdown",
   "id": "478af9e6",
   "metadata": {},
   "source": [
    "Spectroelectrochemistry with ixdat\n",
    "=============================\n",
    "The data\n",
    "------------\n"
   ]
  },
  {
   "cell_type": "code",
   "execution_count": null,
   "id": "6d1625f4",
   "metadata": {},
   "outputs": [],
   "source": [
    "from pathlib import Path\n",
    "\n",
    "data_dir = Path.home() / \"Dropbox/ixdat_resources/test_data/sec\""
   ]
  },
  {
   "cell_type": "markdown",
   "id": "709b7a5b",
   "metadata": {},
   "source": [
    "SEC while scanning potential\n",
    "------------------------------------------"
   ]
  },
  {
   "cell_type": "code",
   "execution_count": null,
   "id": "042f71d2",
   "metadata": {},
   "outputs": [],
   "source": [
    "from ixdat import Measurement\n",
    "\n",
    "sec = Measurement.read(\n",
    "    data_dir / \"test-7SEC.csv\",\n",
    "    path_to_ref_spec_file = data_dir / \"WL.csv\",\n",
    "    path_to_V_J_file = data_dir / \"test-7_JV.csv\",\n",
    "    scan_rate=1,\n",
    "    tstamp=1,\n",
    "    reader=\"msrh_sec\"\n",
    ")"
   ]
  },
  {
   "cell_type": "code",
   "execution_count": null,
   "id": "6938dda5",
   "metadata": {},
   "outputs": [],
   "source": [
    "sec.plot_measurement()"
   ]
  },
  {
   "cell_type": "code",
   "execution_count": null,
   "id": "6cbd43f7",
   "metadata": {},
   "outputs": [],
   "source": [
    "sec.plot_waterfall()"
   ]
  },
  {
   "cell_type": "code",
   "execution_count": null,
   "id": "f9a7d1c2",
   "metadata": {},
   "outputs": [],
   "source": [
    "sec.calibrate_RE(RE_vs_RHE=0.26)\n",
    "sec.normalize_current(A_el=1)\n",
    "\n",
    "sec.set_reference_spectrum(V_ref=0.66)\n",
    "sec.reference_spectrum.plot()"
   ]
  },
  {
   "cell_type": "code",
   "execution_count": null,
   "id": "69378faa",
   "metadata": {},
   "outputs": [],
   "source": [
    "sec.plot_waterfall()"
   ]
  },
  {
   "cell_type": "code",
   "execution_count": null,
   "id": "34477f49",
   "metadata": {},
   "outputs": [],
   "source": [
    "sec.plot_measurement()"
   ]
  },
  {
   "cell_type": "code",
   "execution_count": null,
   "id": "a39501b6",
   "metadata": {},
   "outputs": [],
   "source": [
    "sec.plot_vs_potential(cmap_name=\"jet\")\n",
    "\n",
    "axes = sec.plot_vs_potential(cmap_name=\"jet\", vspan=[1.0, 1.45], color=\"g\")\n",
    "axes[1].set_ylim([0, 0.1])"
   ]
  },
  {
   "cell_type": "code",
   "execution_count": null,
   "id": "9e9da0a7",
   "metadata": {},
   "outputs": [],
   "source": [
    "sec.plot_wavelengths_vs_potential(wavelengths=[\"w800\", \"w580\", \"w480\"])"
   ]
  },
  {
   "cell_type": "code",
   "execution_count": null,
   "id": "ef25a4df",
   "metadata": {},
   "outputs": [],
   "source": [
    "spec_1 = sec.get_spectrum(V=1.0)\n",
    "\n",
    "ax = spec_1.plot(color=\"r\", label=\"1.0 V vs RHE\")\n",
    "sec.reference_spectrum.plot(ax=ax, label=\"reference\")\n",
    "ax.legend()"
   ]
  },
  {
   "cell_type": "code",
   "execution_count": null,
   "id": "cd93c076",
   "metadata": {},
   "outputs": [],
   "source": [
    "ax = sec.get_dOD_spectrum(V=1.0, V_ref=0.66).plot(color=\"b\", label=\"species 1\")\n",
    "sec.get_dOD_spectrum(V=1.4, V_ref=1.0).plot(color=\"g\", label=\"species 2\", ax=ax)\n",
    "sec.get_dOD_spectrum(V=1.7, V_ref=1.4).plot(color=\"r\", label=\"species 3\", ax=ax)\n",
    "ax.legend()"
   ]
  },
  {
   "cell_type": "markdown",
   "id": "aeb90cfc",
   "metadata": {},
   "source": [
    "The End\n",
    "------------"
   ]
  }
 ],
 "metadata": {
  "kernelspec": {
   "display_name": "Python 3",
   "language": "python",
   "name": "python3"
  },
  "language_info": {
   "codemirror_mode": {
    "name": "ipython",
    "version": 3
   },
   "file_extension": ".py",
   "mimetype": "text/x-python",
   "name": "python",
   "nbconvert_exporter": "python",
   "pygments_lexer": "ipython3",
   "version": "3.7.4"
  }
 },
 "nbformat": 4,
 "nbformat_minor": 5
}
